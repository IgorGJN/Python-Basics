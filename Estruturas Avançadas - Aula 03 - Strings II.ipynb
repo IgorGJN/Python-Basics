{
 "cells": [
  {
   "cell_type": "code",
   "execution_count": 2,
   "metadata": {},
   "outputs": [
    {
     "name": "stdout",
     "output_type": "stream",
     "text": [
      "Olá, Tati\n"
     ]
    }
   ],
   "source": [
    "comprimento = \"Olá, \"\n",
    "nome = \"Tati\"\n",
    "print(comprimento + nome)"
   ]
  },
  {
   "cell_type": "code",
   "execution_count": 3,
   "metadata": {},
   "outputs": [
    {
     "name": "stdout",
     "output_type": "stream",
     "text": [
      "TatiTatiTatiTatiTati\n"
     ]
    }
   ],
   "source": [
    "print(nome*5)"
   ]
  },
  {
   "cell_type": "code",
   "execution_count": 5,
   "metadata": {},
   "outputs": [
    {
     "name": "stdout",
     "output_type": "stream",
     "text": [
      "Igor tem 35 anos e 0 filhos\n"
     ]
    }
   ],
   "source": [
    "nome = \"Igor\"\n",
    "idade = 35\n",
    "n_filhos = 0\n",
    "print(nome + \" tem \" + str(idade) + \" anos e \" + str(n_filhos) + \" filhos.\")"
   ]
  },
  {
   "cell_type": "code",
   "execution_count": 7,
   "metadata": {},
   "outputs": [
    {
     "name": "stdout",
     "output_type": "stream",
     "text": [
      "Igor tem 24 anos e 0 filhos\n"
     ]
    }
   ],
   "source": [
    "nome = \"Igor\"\n",
    "idade = 24\n",
    "n_filhos = 0\n",
    "print('{} tem {} anos e {} filhos'.format(nome, idade, n_filhos))"
   ]
  },
  {
   "cell_type": "code",
   "execution_count": 8,
   "metadata": {},
   "outputs": [
    {
     "name": "stdout",
     "output_type": "stream",
     "text": [
      "O preço da gasolina hoje subiu e está em R$ 5.77\n"
     ]
    }
   ],
   "source": [
    "preco_gasolina = 5.768\n",
    "print('O preço da gasolina hoje subiu e está em R$ {:.2f}'.format(preco_gasolina))"
   ]
  },
  {
   "cell_type": "code",
   "execution_count": 9,
   "metadata": {},
   "outputs": [
    {
     "name": "stdout",
     "output_type": "stream",
     "text": [
      "Igor tem 24 anos e 0 filhos.\n"
     ]
    }
   ],
   "source": [
    "print(f'{nome} tem {idade} anos e {n_filhos} filhos.')"
   ]
  }
 ],
 "metadata": {
  "kernelspec": {
   "display_name": "Python 3.10.7 64-bit",
   "language": "python",
   "name": "python3"
  },
  "language_info": {
   "codemirror_mode": {
    "name": "ipython",
    "version": 3
   },
   "file_extension": ".py",
   "mimetype": "text/x-python",
   "name": "python",
   "nbconvert_exporter": "python",
   "pygments_lexer": "ipython3",
   "version": "3.10.7"
  },
  "orig_nbformat": 4,
  "vscode": {
   "interpreter": {
    "hash": "6fd77ea3bc3ffa99382ab5ae267c010aebcfe8a068ee87c4f4a46690025c1976"
   }
  }
 },
 "nbformat": 4,
 "nbformat_minor": 2
}
