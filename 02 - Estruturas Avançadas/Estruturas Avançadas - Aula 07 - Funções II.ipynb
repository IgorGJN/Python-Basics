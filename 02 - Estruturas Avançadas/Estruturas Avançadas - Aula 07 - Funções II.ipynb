{
 "cells": [
  {
   "cell_type": "code",
   "execution_count": 1,
   "metadata": {},
   "outputs": [],
   "source": [
    "def calcula_media(valor1, valor2, valor3):\n",
    "    soma = valor1 + valor2 + valor3\n",
    "    media = soma / 3\n",
    "    return media"
   ]
  },
  {
   "cell_type": "code",
   "execution_count": 2,
   "metadata": {},
   "outputs": [],
   "source": [
    "def calcula_media(*args):\n",
    "    print(args, type(args))"
   ]
  },
  {
   "cell_type": "code",
   "execution_count": 3,
   "metadata": {},
   "outputs": [
    {
     "name": "stdout",
     "output_type": "stream",
     "text": [
      "(10, 8, 9) <class 'tuple'>\n"
     ]
    }
   ],
   "source": [
    "calcula_media(10, 8, 9)"
   ]
  },
  {
   "cell_type": "code",
   "execution_count": 5,
   "metadata": {},
   "outputs": [],
   "source": [
    "def calcula_media(*args, margem):\n",
    "    soma = sum(args)\n",
    "    media = soma / len(args)\n",
    "    return media + margem"
   ]
  },
  {
   "cell_type": "code",
   "execution_count": 8,
   "metadata": {},
   "outputs": [
    {
     "data": {
      "text/plain": [
       "9.3"
      ]
     },
     "execution_count": 8,
     "metadata": {},
     "output_type": "execute_result"
    }
   ],
   "source": [
    "calcula_media(10, 8, 9, margem=0.3)"
   ]
  },
  {
   "cell_type": "code",
   "execution_count": 9,
   "metadata": {},
   "outputs": [],
   "source": [
    "def print_info(**kwargs):\n",
    "    print(kwargs, type(kwargs))"
   ]
  },
  {
   "cell_type": "code",
   "execution_count": 10,
   "metadata": {},
   "outputs": [
    {
     "name": "stdout",
     "output_type": "stream",
     "text": [
      "{'nome': 'Igor', 'sobrenome': 'Gabriel'} <class 'dict'>\n"
     ]
    }
   ],
   "source": [
    "print_info(nome='Igor', sobrenome='Gabriel')"
   ]
  }
 ],
 "metadata": {
  "kernelspec": {
   "display_name": "Python 3.10.7 64-bit",
   "language": "python",
   "name": "python3"
  },
  "language_info": {
   "codemirror_mode": {
    "name": "ipython",
    "version": 3
   },
   "file_extension": ".py",
   "mimetype": "text/x-python",
   "name": "python",
   "nbconvert_exporter": "python",
   "pygments_lexer": "ipython3",
   "version": "3.10.7"
  },
  "orig_nbformat": 4,
  "vscode": {
   "interpreter": {
    "hash": "6fd77ea3bc3ffa99382ab5ae267c010aebcfe8a068ee87c4f4a46690025c1976"
   }
  }
 },
 "nbformat": 4,
 "nbformat_minor": 2
}
