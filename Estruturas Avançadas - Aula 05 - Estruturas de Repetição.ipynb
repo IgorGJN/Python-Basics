{
 "cells": [
  {
   "cell_type": "code",
   "execution_count": 2,
   "metadata": {},
   "outputs": [
    {
     "name": "stdout",
     "output_type": "stream",
     "text": [
      "São Paulo\n",
      "Londres\n",
      "Tóquio\n",
      "Paris\n"
     ]
    }
   ],
   "source": [
    "nomes_cidades = ['São Paulo', 'Londres', 'Tóquio', 'Paris']\n",
    "for nome in nomes_cidades:\n",
    "    print(nome)"
   ]
  },
  {
   "cell_type": "code",
   "execution_count": 4,
   "metadata": {},
   "outputs": [],
   "source": [
    "import time"
   ]
  },
  {
   "cell_type": "code",
   "execution_count": 5,
   "metadata": {},
   "outputs": [
    {
     "name": "stdout",
     "output_type": "stream",
     "text": [
      "São Paulo\n",
      "Londres\n",
      "Tóquio\n",
      "Paris\n"
     ]
    }
   ],
   "source": [
    "contador = 0\n",
    "nomes_cidades = ['São Paulo', 'Londres', 'Tóquio', 'Paris']\n",
    "while contador < len(nomes_cidades):\n",
    "    print(nomes_cidades[contador])\n",
    "    contador = contador + 1\n",
    "    time.sleep(1)"
   ]
  },
  {
   "cell_type": "code",
   "execution_count": 6,
   "metadata": {},
   "outputs": [
    {
     "name": "stdout",
     "output_type": "stream",
     "text": [
      "São Paulo\n",
      "Londres\n",
      "Tóquio\n",
      "Paris\n"
     ]
    }
   ],
   "source": [
    "nomes_cidades = ['São Paulo', 'Londres', 'Tóquio', 'Paris']\n",
    "for nome in nomes_cidades:\n",
    "    print(nome)\n",
    "    time.sleep(1)"
   ]
  },
  {
   "cell_type": "code",
   "execution_count": 7,
   "metadata": {},
   "outputs": [
    {
     "name": "stdout",
     "output_type": "stream",
     "text": [
      "nome: Itanhém\n",
      "estado: BA\n",
      "populacao: 25\n"
     ]
    }
   ],
   "source": [
    "cidade = {\n",
    "    'nome': 'Itanhém',\n",
    "    'estado': 'BA',\n",
    "    'populacao': '25'\n",
    "}\n",
    "for chave in cidade:\n",
    "    print(f'{chave}: {cidade[chave]}')\n",
    "    time.sleep(1)"
   ]
  },
  {
   "cell_type": "code",
   "execution_count": 8,
   "metadata": {},
   "outputs": [
    {
     "name": "stdout",
     "output_type": "stream",
     "text": [
      "['Fsa', 'Fsa', 'Fsa', 'Fsa']\n"
     ]
    }
   ],
   "source": [
    "for posicao in range(len(nomes_cidades)):\n",
    "    nomes_cidades[posicao] = 'Fsa'\n",
    "print(nomes_cidades)"
   ]
  },
  {
   "cell_type": "code",
   "execution_count": 9,
   "metadata": {},
   "outputs": [
    {
     "name": "stdout",
     "output_type": "stream",
     "text": [
      "[0, 1, 2, 3, 4, 5, 6, 7, 8, 9]\n",
      "[2, 3, 4, 5, 6, 7, 8, 9]\n",
      "[2, 4, 6, 8]\n"
     ]
    }
   ],
   "source": [
    "print(list(range(10)))\n",
    "print(list(range(2, 10)))\n",
    "print(list(range(2, 10, 2)))"
   ]
  }
 ],
 "metadata": {
  "kernelspec": {
   "display_name": "Python 3.10.7 64-bit",
   "language": "python",
   "name": "python3"
  },
  "language_info": {
   "codemirror_mode": {
    "name": "ipython",
    "version": 3
   },
   "file_extension": ".py",
   "mimetype": "text/x-python",
   "name": "python",
   "nbconvert_exporter": "python",
   "pygments_lexer": "ipython3",
   "version": "3.10.7"
  },
  "orig_nbformat": 4,
  "vscode": {
   "interpreter": {
    "hash": "6fd77ea3bc3ffa99382ab5ae267c010aebcfe8a068ee87c4f4a46690025c1976"
   }
  }
 },
 "nbformat": 4,
 "nbformat_minor": 2
}
