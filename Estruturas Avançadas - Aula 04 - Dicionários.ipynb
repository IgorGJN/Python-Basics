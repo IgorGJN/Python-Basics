{
 "cells": [
  {
   "cell_type": "code",
   "execution_count": 1,
   "metadata": {},
   "outputs": [],
   "source": [
    "dados_cidades = {\n",
    "    'nome': 'São Paulo',\n",
    "    'estado': 'SP',\n",
    "    'area_km': 1244,\n",
    "    'populacao': 12.18,\n",
    "}"
   ]
  },
  {
   "cell_type": "code",
   "execution_count": 2,
   "metadata": {},
   "outputs": [
    {
     "name": "stdout",
     "output_type": "stream",
     "text": [
      "<class 'dict'>\n"
     ]
    }
   ],
   "source": [
    "print(type(dados_cidades))"
   ]
  },
  {
   "cell_type": "code",
   "execution_count": 3,
   "metadata": {},
   "outputs": [
    {
     "name": "stdout",
     "output_type": "stream",
     "text": [
      "{'nome': 'São Paulo', 'estado': 'SP', 'area_km': 1244, 'populacao': 12.18}\n"
     ]
    }
   ],
   "source": [
    "print(dados_cidades)"
   ]
  },
  {
   "cell_type": "code",
   "execution_count": 6,
   "metadata": {},
   "outputs": [
    {
     "name": "stdout",
     "output_type": "stream",
     "text": [
      "São Paulo\n",
      "{'nome': 'São Paulo', 'estado': 'SP', 'area_km': 1550, 'populacao': 12.18, 'pais': 'Brasil'}\n"
     ]
    }
   ],
   "source": [
    "print(dados_cidades['nome'])\n",
    "dados_cidades['area_km'] = 1550\n",
    "dados_cidades['pais'] = 'Brasil'\n",
    "print(dados_cidades)"
   ]
  },
  {
   "cell_type": "code",
   "execution_count": 8,
   "metadata": {},
   "outputs": [
    {
     "name": "stdout",
     "output_type": "stream",
     "text": [
      "{'nome': 'Santos', 'estado': 'SP', 'area_km': 1550, 'populacao': 12.18, 'pais': 'Brasil'}\n",
      "{'nome': 'Santos', 'estado': 'SP', 'area_km': 1550, 'populacao': 12.18, 'pais': 'Brasil'}\n"
     ]
    }
   ],
   "source": [
    "dados_cidades_2 = dados_cidades\n",
    "dados_cidades_2['nome'] = 'Santos'\n",
    "print(dados_cidades_2)\n",
    "print(dados_cidades)"
   ]
  },
  {
   "cell_type": "code",
   "execution_count": 9,
   "metadata": {},
   "outputs": [
    {
     "name": "stdout",
     "output_type": "stream",
     "text": [
      "{'nome': 'Santos', 'estado': 'SP', 'area_km': 1550, 'populacao': 12.18, 'pais': 'Brasil'}\n",
      "{'nome': 'Santos', 'estado': 'BA', 'area_km': 1550, 'populacao': 12.18, 'pais': 'Brasil'}\n"
     ]
    }
   ],
   "source": [
    "dados_cidades_3 = dados_cidades.copy()\n",
    "dados_cidades_3['estado'] = 'BA'\n",
    "print(dados_cidades)\n",
    "print(dados_cidades_3)"
   ]
  },
  {
   "cell_type": "code",
   "execution_count": 12,
   "metadata": {},
   "outputs": [
    {
     "name": "stdout",
     "output_type": "stream",
     "text": [
      "{'nome': 'Santos', 'estado': 'SP', 'area_km': 1550, 'populacao': 15, 'pais': 'Brasil', 'fundacao': '13/05/99'}\n"
     ]
    }
   ],
   "source": [
    "novos_dados = {\n",
    "    'populacao': 15,\n",
    "    'fundacao': '13/05/99'\n",
    "}\n",
    "\n",
    "dados_cidades.update(novos_dados)\n",
    "print(dados_cidades)\n"
   ]
  },
  {
   "cell_type": "code",
   "execution_count": 13,
   "metadata": {},
   "outputs": [
    {
     "ename": "KeyError",
     "evalue": "'prefeito'",
     "output_type": "error",
     "traceback": [
      "\u001b[1;31m---------------------------------------------------------------------------\u001b[0m",
      "\u001b[1;31mKeyError\u001b[0m                                  Traceback (most recent call last)",
      "Cell \u001b[1;32mIn [13], line 1\u001b[0m\n\u001b[1;32m----> 1\u001b[0m \u001b[43mdados_cidades\u001b[49m\u001b[43m[\u001b[49m\u001b[38;5;124;43m'\u001b[39;49m\u001b[38;5;124;43mprefeito\u001b[39;49m\u001b[38;5;124;43m'\u001b[39;49m\u001b[43m]\u001b[49m\n",
      "\u001b[1;31mKeyError\u001b[0m: 'prefeito'"
     ]
    }
   ],
   "source": [
    "dados_cidades['prefeito']"
   ]
  },
  {
   "cell_type": "code",
   "execution_count": 14,
   "metadata": {},
   "outputs": [
    {
     "name": "stdout",
     "output_type": "stream",
     "text": [
      "None\n"
     ]
    }
   ],
   "source": [
    "print(dados_cidades.get('prefeito'))"
   ]
  },
  {
   "cell_type": "code",
   "execution_count": 16,
   "metadata": {},
   "outputs": [
    {
     "name": "stdout",
     "output_type": "stream",
     "text": [
      "dict_keys(['nome', 'estado', 'area_km', 'populacao', 'pais', 'fundacao'])\n",
      "------\n",
      "dict_values(['Santos', 'SP', 1550, 15, 'Brasil', '13/05/99'])\n",
      "------\n",
      "dict_items([('nome', 'Santos'), ('estado', 'SP'), ('area_km', 1550), ('populacao', 15), ('pais', 'Brasil'), ('fundacao', '13/05/99')])\n"
     ]
    }
   ],
   "source": [
    "print(dados_cidades.keys()) # retorna uma lista de chaves de um dicionário\n",
    "print(\"------\")\n",
    "print(dados_cidades.values()) # retorna uma lista de valores de um dicionário\n",
    "print(\"------\")\n",
    "print(dados_cidades.items()) # retorna uma lista de tuplas (chave, valor) de um dicionário"
   ]
  }
 ],
 "metadata": {
  "kernelspec": {
   "display_name": "Python 3.10.7 64-bit",
   "language": "python",
   "name": "python3"
  },
  "language_info": {
   "codemirror_mode": {
    "name": "ipython",
    "version": 3
   },
   "file_extension": ".py",
   "mimetype": "text/x-python",
   "name": "python",
   "nbconvert_exporter": "python",
   "pygments_lexer": "ipython3",
   "version": "3.10.7"
  },
  "orig_nbformat": 4,
  "vscode": {
   "interpreter": {
    "hash": "6fd77ea3bc3ffa99382ab5ae267c010aebcfe8a068ee87c4f4a46690025c1976"
   }
  }
 },
 "nbformat": 4,
 "nbformat_minor": 2
}
